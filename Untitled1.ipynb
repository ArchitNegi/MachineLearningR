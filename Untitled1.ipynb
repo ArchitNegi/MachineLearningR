{
 "cells": [
  {
   "cell_type": "markdown",
   "metadata": {},
   "source": [
    "# Descriptive Statistics Using R "
   ]
  },
  {
   "cell_type": "markdown",
   "metadata": {},
   "source": [
    "### What we will do in this "
   ]
  },
  {
   "cell_type": "raw",
   "metadata": {},
   "source": [
    "Implement the following in an R programm. \n",
    "Calculate:-\n",
    "Variance\n",
    "standard deviation,\n",
    "skewness, kurtosis, \n",
    "percentiles,\n",
    "five point summary\n",
    "Plot:-\n",
    "Boxplots,\n",
    "histograms\n",
    "bar plot\n",
    "pie chart\n",
    "scatter plot\n",
    "two way tables\n",
    "Covariance\n",
    "correlation analysis\n",
    "Chi-Square test for two way tables"
   ]
  },
  {
   "cell_type": "code",
   "execution_count": 104,
   "metadata": {},
   "outputs": [],
   "source": [
    "data = read.csv(\"C:/Users/Archit/Downloads/Mall_Customers.csv\")"
   ]
  },
  {
   "cell_type": "code",
   "execution_count": 3,
   "metadata": {},
   "outputs": [
    {
     "data": {
      "text/html": [
       "<table>\n",
       "<thead><tr><th scope=col>CustomerID</th><th scope=col>Genre</th><th scope=col>Age</th><th scope=col>AnnualIncome</th><th scope=col>SpendingScore</th></tr></thead>\n",
       "<tbody>\n",
       "\t<tr><td>1     </td><td>Male  </td><td>19    </td><td>15    </td><td>39    </td></tr>\n",
       "\t<tr><td>2     </td><td>Male  </td><td>21    </td><td>15    </td><td>81    </td></tr>\n",
       "\t<tr><td>3     </td><td>Female</td><td>20    </td><td>16    </td><td> 6    </td></tr>\n",
       "\t<tr><td>4     </td><td>Female</td><td>23    </td><td>16    </td><td>77    </td></tr>\n",
       "\t<tr><td>5     </td><td>Female</td><td>31    </td><td>17    </td><td>40    </td></tr>\n",
       "\t<tr><td>6     </td><td>Female</td><td>22    </td><td>17    </td><td>76    </td></tr>\n",
       "</tbody>\n",
       "</table>\n"
      ],
      "text/latex": [
       "\\begin{tabular}{r|lllll}\n",
       " CustomerID & Genre & Age & AnnualIncome & SpendingScore\\\\\n",
       "\\hline\n",
       "\t 1      & Male   & 19     & 15     & 39    \\\\\n",
       "\t 2      & Male   & 21     & 15     & 81    \\\\\n",
       "\t 3      & Female & 20     & 16     &  6    \\\\\n",
       "\t 4      & Female & 23     & 16     & 77    \\\\\n",
       "\t 5      & Female & 31     & 17     & 40    \\\\\n",
       "\t 6      & Female & 22     & 17     & 76    \\\\\n",
       "\\end{tabular}\n"
      ],
      "text/markdown": [
       "\n",
       "| CustomerID | Genre | Age | AnnualIncome | SpendingScore |\n",
       "|---|---|---|---|---|\n",
       "| 1      | Male   | 19     | 15     | 39     |\n",
       "| 2      | Male   | 21     | 15     | 81     |\n",
       "| 3      | Female | 20     | 16     |  6     |\n",
       "| 4      | Female | 23     | 16     | 77     |\n",
       "| 5      | Female | 31     | 17     | 40     |\n",
       "| 6      | Female | 22     | 17     | 76     |\n",
       "\n"
      ],
      "text/plain": [
       "  CustomerID Genre  Age AnnualIncome SpendingScore\n",
       "1 1          Male   19  15           39           \n",
       "2 2          Male   21  15           81           \n",
       "3 3          Female 20  16            6           \n",
       "4 4          Female 23  16           77           \n",
       "5 5          Female 31  17           40           \n",
       "6 6          Female 22  17           76           "
      ]
     },
     "metadata": {},
     "output_type": "display_data"
    }
   ],
   "source": [
    "head(data)"
   ]
  },
  {
   "cell_type": "markdown",
   "metadata": {},
   "source": [
    "## Calculating the Variance"
   ]
  },
  {
   "cell_type": "markdown",
   "metadata": {},
   "source": [
    "Using Function var() to calculate the variance of the variables"
   ]
  },
  {
   "cell_type": "code",
   "execution_count": 6,
   "metadata": {},
   "outputs": [
    {
     "data": {
      "text/html": [
       "195.133165829146"
      ],
      "text/latex": [
       "195.133165829146"
      ],
      "text/markdown": [
       "195.133165829146"
      ],
      "text/plain": [
       "[1] 195.1332"
      ]
     },
     "metadata": {},
     "output_type": "display_data"
    }
   ],
   "source": [
    "var(data$Age)"
   ]
  },
  {
   "cell_type": "code",
   "execution_count": 7,
   "metadata": {},
   "outputs": [
    {
     "data": {
      "text/html": [
       "689.835577889447"
      ],
      "text/latex": [
       "689.835577889447"
      ],
      "text/markdown": [
       "689.835577889447"
      ],
      "text/plain": [
       "[1] 689.8356"
      ]
     },
     "metadata": {},
     "output_type": "display_data"
    }
   ],
   "source": [
    "var(data$AnnualIncome)"
   ]
  },
  {
   "cell_type": "code",
   "execution_count": 9,
   "metadata": {},
   "outputs": [
    {
     "data": {
      "text/html": [
       "666.854271356784"
      ],
      "text/latex": [
       "666.854271356784"
      ],
      "text/markdown": [
       "666.854271356784"
      ],
      "text/plain": [
       "[1] 666.8543"
      ]
     },
     "metadata": {},
     "output_type": "display_data"
    }
   ],
   "source": [
    "var(data$SpendingScore)"
   ]
  },
  {
   "cell_type": "markdown",
   "metadata": {},
   "source": [
    "#### Variance of Age- 195.133165829146\n",
    "#### Variance of Annual Income-689.835577889447\n",
    "#### Variance of Spending Score-666.854271356784"
   ]
  },
  {
   "cell_type": "markdown",
   "metadata": {},
   "source": [
    "## Standard Deviation"
   ]
  },
  {
   "cell_type": "markdown",
   "metadata": {},
   "source": [
    "Using Function sd(x, na.rm = FALSE) to calculate the Standard Deviation.This function computes the standard deviation of the values in x. If na.rm is TRUE then missing values are removed before computation proceeds.Since in this dataset there are no missing values therefore value of na.rm will not have any effect on the standard deviation"
   ]
  },
  {
   "cell_type": "code",
   "execution_count": 10,
   "metadata": {},
   "outputs": [
    {
     "data": {
      "text/html": [
       "13.9690073315589"
      ],
      "text/latex": [
       "13.9690073315589"
      ],
      "text/markdown": [
       "13.9690073315589"
      ],
      "text/plain": [
       "[1] 13.96901"
      ]
     },
     "metadata": {},
     "output_type": "display_data"
    }
   ],
   "source": [
    "sd(data$Age, na.rm = FALSE)"
   ]
  },
  {
   "cell_type": "code",
   "execution_count": 19,
   "metadata": {},
   "outputs": [
    {
     "data": {
      "text/html": [
       "26.2647211652712"
      ],
      "text/latex": [
       "26.2647211652712"
      ],
      "text/markdown": [
       "26.2647211652712"
      ],
      "text/plain": [
       "[1] 26.26472"
      ]
     },
     "metadata": {},
     "output_type": "display_data"
    }
   ],
   "source": [
    "sd(data$AnnualIncome,na.rm = FALSE)"
   ]
  },
  {
   "cell_type": "code",
   "execution_count": 20,
   "metadata": {},
   "outputs": [
    {
     "data": {
      "text/html": [
       "25.8235216683702"
      ],
      "text/latex": [
       "25.8235216683702"
      ],
      "text/markdown": [
       "25.8235216683702"
      ],
      "text/plain": [
       "[1] 25.82352"
      ]
     },
     "metadata": {},
     "output_type": "display_data"
    }
   ],
   "source": [
    "sd(data$SpendingScore,na.rm = FALSE)"
   ]
  },
  {
   "cell_type": "markdown",
   "metadata": {},
   "source": [
    "#### Standard Deviation in\n",
    "#### Age=13.9690073315589\n",
    "#### AnnualIncome=26.2647211652712\n",
    "#### SpendingScore=25.8235216683702"
   ]
  },
  {
   "cell_type": "markdown",
   "metadata": {},
   "source": [
    "## Skewness & Kurtosis"
   ]
  },
  {
   "cell_type": "code",
   "execution_count": 21,
   "metadata": {},
   "outputs": [],
   "source": [
    "library(moments)"
   ]
  },
  {
   "cell_type": "code",
   "execution_count": 24,
   "metadata": {},
   "outputs": [
    {
     "data": {
      "text/html": [
       "2.87410717025249"
      ],
      "text/latex": [
       "2.87410717025249"
      ],
      "text/markdown": [
       "2.87410717025249"
      ],
      "text/plain": [
       "[1] 2.874107"
      ]
     },
     "metadata": {},
     "output_type": "display_data"
    }
   ],
   "source": [
    "kurtosis(data$AnnualIncome)"
   ]
  },
  {
   "cell_type": "code",
   "execution_count": 25,
   "metadata": {},
   "outputs": [
    {
     "data": {
      "text/html": [
       "2.31524860522768"
      ],
      "text/latex": [
       "2.31524860522768"
      ],
      "text/markdown": [
       "2.31524860522768"
      ],
      "text/plain": [
       "[1] 2.315249"
      ]
     },
     "metadata": {},
     "output_type": "display_data"
    }
   ],
   "source": [
    "kurtosis(data$Age)"
   ]
  },
  {
   "cell_type": "code",
   "execution_count": 26,
   "metadata": {},
   "outputs": [
    {
     "data": {
      "text/html": [
       "2.16404172812628"
      ],
      "text/latex": [
       "2.16404172812628"
      ],
      "text/markdown": [
       "2.16404172812628"
      ],
      "text/plain": [
       "[1] 2.164042"
      ]
     },
     "metadata": {},
     "output_type": "display_data"
    }
   ],
   "source": [
    "kurtosis(data$SpendingScore)"
   ]
  },
  {
   "cell_type": "code",
   "execution_count": 27,
   "metadata": {},
   "outputs": [
    {
     "data": {
      "text/html": [
       "0.319423684276314"
      ],
      "text/latex": [
       "0.319423684276314"
      ],
      "text/markdown": [
       "0.319423684276314"
      ],
      "text/plain": [
       "[1] 0.3194237"
      ]
     },
     "metadata": {},
     "output_type": "display_data"
    }
   ],
   "source": [
    "skewness(data$AnnualIncome)"
   ]
  },
  {
   "cell_type": "code",
   "execution_count": 28,
   "metadata": {},
   "outputs": [
    {
     "data": {
      "text/html": [
       "0.481919470909572"
      ],
      "text/latex": [
       "0.481919470909572"
      ],
      "text/markdown": [
       "0.481919470909572"
      ],
      "text/plain": [
       "[1] 0.4819195"
      ]
     },
     "metadata": {},
     "output_type": "display_data"
    }
   ],
   "source": [
    "skewness(data$Age)"
   ]
  },
  {
   "cell_type": "code",
   "execution_count": 29,
   "metadata": {},
   "outputs": [
    {
     "data": {
      "text/html": [
       "-0.046865309455535"
      ],
      "text/latex": [
       "-0.046865309455535"
      ],
      "text/markdown": [
       "-0.046865309455535"
      ],
      "text/plain": [
       "[1] -0.04686531"
      ]
     },
     "metadata": {},
     "output_type": "display_data"
    }
   ],
   "source": [
    "skewness(data$SpendingScore)"
   ]
  },
  {
   "cell_type": "markdown",
   "metadata": {},
   "source": [
    "### Observation \n",
    "#### Variables Age , Spending Score and Annual income are leptokurtic distribution since kurtosis >0.\n",
    "#### Variables Age and Annual Income are skewed rightly since skewness>0\n",
    "#### Variable Spending Score is slightly skewed in the left since skewness<0"
   ]
  },
  {
   "cell_type": "markdown",
   "metadata": {},
   "source": [
    "# Percentiles"
   ]
  },
  {
   "cell_type": "markdown",
   "metadata": {},
   "source": [
    "Let us calculate percentiles of the data using quantile function "
   ]
  },
  {
   "cell_type": "code",
   "execution_count": 38,
   "metadata": {},
   "outputs": [
    {
     "data": {
      "text/html": [
       "<dl class=dl-horizontal>\n",
       "\t<dt>0%</dt>\n",
       "\t\t<dd>18</dd>\n",
       "\t<dt>25%</dt>\n",
       "\t\t<dd>28.75</dd>\n",
       "\t<dt>50%</dt>\n",
       "\t\t<dd>36</dd>\n",
       "\t<dt>75%</dt>\n",
       "\t\t<dd>49</dd>\n",
       "\t<dt>100%</dt>\n",
       "\t\t<dd>70</dd>\n",
       "</dl>\n"
      ],
      "text/latex": [
       "\\begin{description*}\n",
       "\\item[0\\textbackslash{}\\%] 18\n",
       "\\item[25\\textbackslash{}\\%] 28.75\n",
       "\\item[50\\textbackslash{}\\%] 36\n",
       "\\item[75\\textbackslash{}\\%] 49\n",
       "\\item[100\\textbackslash{}\\%] 70\n",
       "\\end{description*}\n"
      ],
      "text/markdown": [
       "0%\n",
       ":   1825%\n",
       ":   28.7550%\n",
       ":   3675%\n",
       ":   49100%\n",
       ":   70\n",
       "\n"
      ],
      "text/plain": [
       "   0%   25%   50%   75%  100% \n",
       "18.00 28.75 36.00 49.00 70.00 "
      ]
     },
     "metadata": {},
     "output_type": "display_data"
    }
   ],
   "source": [
    " quantile(data$Age)"
   ]
  },
  {
   "cell_type": "code",
   "execution_count": 39,
   "metadata": {},
   "outputs": [
    {
     "data": {
      "text/html": [
       "<dl class=dl-horizontal>\n",
       "\t<dt>0%</dt>\n",
       "\t\t<dd>1</dd>\n",
       "\t<dt>25%</dt>\n",
       "\t\t<dd>34.75</dd>\n",
       "\t<dt>50%</dt>\n",
       "\t\t<dd>50</dd>\n",
       "\t<dt>75%</dt>\n",
       "\t\t<dd>73</dd>\n",
       "\t<dt>100%</dt>\n",
       "\t\t<dd>99</dd>\n",
       "</dl>\n"
      ],
      "text/latex": [
       "\\begin{description*}\n",
       "\\item[0\\textbackslash{}\\%] 1\n",
       "\\item[25\\textbackslash{}\\%] 34.75\n",
       "\\item[50\\textbackslash{}\\%] 50\n",
       "\\item[75\\textbackslash{}\\%] 73\n",
       "\\item[100\\textbackslash{}\\%] 99\n",
       "\\end{description*}\n"
      ],
      "text/markdown": [
       "0%\n",
       ":   125%\n",
       ":   34.7550%\n",
       ":   5075%\n",
       ":   73100%\n",
       ":   99\n",
       "\n"
      ],
      "text/plain": [
       "   0%   25%   50%   75%  100% \n",
       " 1.00 34.75 50.00 73.00 99.00 "
      ]
     },
     "metadata": {},
     "output_type": "display_data"
    }
   ],
   "source": [
    " quantile(data$SpendingScore )"
   ]
  },
  {
   "cell_type": "code",
   "execution_count": 40,
   "metadata": {},
   "outputs": [
    {
     "data": {
      "text/html": [
       "<dl class=dl-horizontal>\n",
       "\t<dt>0%</dt>\n",
       "\t\t<dd>15</dd>\n",
       "\t<dt>25%</dt>\n",
       "\t\t<dd>41.5</dd>\n",
       "\t<dt>50%</dt>\n",
       "\t\t<dd>61.5</dd>\n",
       "\t<dt>75%</dt>\n",
       "\t\t<dd>78</dd>\n",
       "\t<dt>100%</dt>\n",
       "\t\t<dd>137</dd>\n",
       "</dl>\n"
      ],
      "text/latex": [
       "\\begin{description*}\n",
       "\\item[0\\textbackslash{}\\%] 15\n",
       "\\item[25\\textbackslash{}\\%] 41.5\n",
       "\\item[50\\textbackslash{}\\%] 61.5\n",
       "\\item[75\\textbackslash{}\\%] 78\n",
       "\\item[100\\textbackslash{}\\%] 137\n",
       "\\end{description*}\n"
      ],
      "text/markdown": [
       "0%\n",
       ":   1525%\n",
       ":   41.550%\n",
       ":   61.575%\n",
       ":   78100%\n",
       ":   137\n",
       "\n"
      ],
      "text/plain": [
       "   0%   25%   50%   75%  100% \n",
       " 15.0  41.5  61.5  78.0 137.0 "
      ]
     },
     "metadata": {},
     "output_type": "display_data"
    }
   ],
   "source": [
    " quantile(data$AnnualIncome)"
   ]
  },
  {
   "cell_type": "markdown",
   "metadata": {},
   "source": [
    "## Summary Of Data"
   ]
  },
  {
   "cell_type": "markdown",
   "metadata": {},
   "source": [
    "We will calculate the 6 point summary of data by using the summary function it will give us the minimum value,the maximum value,1st quartile ,Median,Mean and the 3rd Quartile of every variable of the dataset"
   ]
  },
  {
   "cell_type": "code",
   "execution_count": 41,
   "metadata": {},
   "outputs": [
    {
     "data": {
      "text/plain": [
       "   CustomerID        Genre          Age         AnnualIncome    SpendingScore  \n",
       " Min.   :  1.00   Female:112   Min.   :18.00   Min.   : 15.00   Min.   : 1.00  \n",
       " 1st Qu.: 50.75   Male  : 88   1st Qu.:28.75   1st Qu.: 41.50   1st Qu.:34.75  \n",
       " Median :100.50                Median :36.00   Median : 61.50   Median :50.00  \n",
       " Mean   :100.50                Mean   :38.85   Mean   : 60.56   Mean   :50.20  \n",
       " 3rd Qu.:150.25                3rd Qu.:49.00   3rd Qu.: 78.00   3rd Qu.:73.00  \n",
       " Max.   :200.00                Max.   :70.00   Max.   :137.00   Max.   :99.00  "
      ]
     },
     "metadata": {},
     "output_type": "display_data"
    }
   ],
   "source": [
    "summary(data)"
   ]
  },
  {
   "cell_type": "markdown",
   "metadata": {},
   "source": [
    "## BoxPlot"
   ]
  },
  {
   "cell_type": "code",
   "execution_count": 99,
   "metadata": {},
   "outputs": [],
   "source": [
    "library(ggplot2)"
   ]
  },
  {
   "cell_type": "code",
   "execution_count": 106,
   "metadata": {},
   "outputs": [
    {
     "data": {
      "image/png": "[encoded data removed]",
      "text/plain": [
       "Plot with title \"Mall Customers\""
      ]
     },
     "metadata": {},
     "output_type": "display_data"
    }
   ],
   "source": [
    "boxplot(Age~SpendingScore,data=data, main=\"Mall Customers\", \n",
    "   xlab=\"Age\", ylab=\"SpendingScore\",asp=1000) "
   ]
  },
  {
   "cell_type": "markdown",
   "metadata": {},
   "source": [
    "## Histogram"
   ]
  },
  {
   "cell_type": "markdown",
   "metadata": {},
   "source": [
    "We will use the function *hist()* to plot a histogram."
   ]
  },
  {
   "cell_type": "code",
   "execution_count": 135,
   "metadata": {},
   "outputs": [
    {
     "data": {
      "image/png": "[encoded data removed]",
      "text/plain": [
       "Plot with title \"Histogram\""
      ]
     },
     "metadata": {},
     "output_type": "display_data"
    }
   ],
   "source": [
    "hist(data$Age,main=\"Histogram\",xlab=\"Age\",col=\"darkred\")"
   ]
  },
  {
   "cell_type": "code",
   "execution_count": 62,
   "metadata": {},
   "outputs": [
    {
     "data": {
      "image/png": "[encoded data removed]",
      "text/plain": [
       "Plot with title \"Histogram\""
      ]
     },
     "metadata": {},
     "output_type": "display_data"
    }
   ],
   "source": [
    "hist(data$AnnualIncome,main=\"Histogram\",xlab=\"Annual Income\",col=\"darkred\")"
   ]
  },
  {
   "cell_type": "code",
   "execution_count": 61,
   "metadata": {},
   "outputs": [
    {
     "data": {
      "image/png": "[encoded data removed]",
      "text/plain": [
       "Plot with title \"Histogram\""
      ]
     },
     "metadata": {},
     "output_type": "display_data"
    }
   ],
   "source": [
    "hist(data$SpendingScore,main=\"Histogram\",xlab=\"SpendingScore\",col = \"darkred\")"
   ]
  },
  {
   "cell_type": "markdown",
   "metadata": {},
   "source": [
    "## Bar Plot"
   ]
  },
  {
   "cell_type": "code",
   "execution_count": 128,
   "metadata": {},
   "outputs": [],
   "source": [
    "data1=c(length(subset(data$Age,data$Age<20)),length(subset(data$Age,data$Age>20&data$Age<40)),length(subset(data$Age,data$Age>=40&data$Age<=60)),length(subset(data$Age,data$Age>60)))"
   ]
  },
  {
   "cell_type": "code",
   "execution_count": 129,
   "metadata": {},
   "outputs": [],
   "source": [
    "labels=c(\"age< 20\",\" 20 <age< 40\",\"40<age<60\",\"age> 60\")"
   ]
  },
  {
   "cell_type": "code",
   "execution_count": 134,
   "metadata": {},
   "outputs": [
    {
     "data": {
      "image/png": "[encoded data removed]",
      "text/plain": [
       "plot without title"
      ]
     },
     "metadata": {},
     "output_type": "display_data"
    }
   ],
   "source": [
    "barplot(data1,names.arg=labels,col=\"cyan\")"
   ]
  },
  {
   "cell_type": "markdown",
   "metadata": {},
   "source": [
    "## PieChart"
   ]
  },
  {
   "cell_type": "code",
   "execution_count": 133,
   "metadata": {},
   "outputs": [
    {
     "data": {
      "image/png": "[encoded data removed]",
      "text/plain": [
       "Plot with title \"Chart Of Customers Based on Age\""
      ]
     },
     "metadata": {},
     "output_type": "display_data"
    }
   ],
   "source": [
    "pie(data1, labels, main = \"Chart Of Customers Based on Age\", col = c(\"red\", \"yellow\", \"green\", \"violet\"))"
   ]
  },
  {
   "cell_type": "markdown",
   "metadata": {},
   "source": [
    "# ScatterPlot"
   ]
  },
  {
   "cell_type": "code",
   "execution_count": 97,
   "metadata": {},
   "outputs": [
    {
     "data": {
      "image/png": "[encoded data removed]",
      "text/plain": [
       "Plot with title \"Scatterplot\""
      ]
     },
     "metadata": {},
     "output_type": "display_data"
    }
   ],
   "source": [
    "plot(x=data$AnnualIncome, y =data$SpendingScore, type = \"p\",xlab=\"Annual Income\",ylab=\"Spending Score\",main=\"Scatterplot\",col=\"darkred\")"
   ]
  },
  {
   "cell_type": "markdown",
   "metadata": {},
   "source": [
    "## Two Way Table"
   ]
  },
  {
   "cell_type": "markdown",
   "metadata": {},
   "source": [
    "#### Usually Two way table are used for 2 categorical data type since we have only 1 categorical data we won't be able to deduce much from it "
   ]
  },
  {
   "cell_type": "code",
   "execution_count": 124,
   "metadata": {},
   "outputs": [
    {
     "data": {
      "text/plain": [
       "        \n",
       "         15 16 17 18 19 20 21 23 24 25 28 29 30 33 34 37 38 39 40 42 43 44 46\n",
       "  Female  0  2  2  2  2  2  1  1  0  1  2  2  1  2  2  2  1  3  4  1  2  1  1\n",
       "  Male    2  0  0  0  2  2  1  1  2  1  2  0  1  2  0  0  1  1  0  1  2  1  3\n",
       "        \n",
       "         47 48 49 50 54 57 58 59 60 61 62 63 64 65 67 69 70 71 72 73 74 75 76\n",
       "  Female  2  3  1  2  5  2  2  1  4  0  3  2  1  4  3  1  2  0  2  2  1  1  2\n",
       "  Male    0  3  1  0  7  0  0  1  2  2  3  4  1  0  1  1  0  6  0  2  1  1  0\n",
       "        \n",
       "         77 78 79 81 85 86 87 88 93 97 98 99 101 103 113 120 126 137\n",
       "  Female  1  7  2  1  1  1  1  2  0  2  1  1   1   4   1   2   1   0\n",
       "  Male    3  5  0  1  1  1  5  2  2  0  1  1   1   0   1   0   1   2"
      ]
     },
     "metadata": {},
     "output_type": "display_data"
    }
   ],
   "source": [
    "table(data$Genre,data$AnnualIncome)"
   ]
  },
  {
   "cell_type": "markdown",
   "metadata": {},
   "source": [
    "## Covariance And Correlation"
   ]
  },
  {
   "cell_type": "code",
   "execution_count": 122,
   "metadata": {},
   "outputs": [
    {
     "data": {
      "text/html": [
       "6.71658291457286"
      ],
      "text/latex": [
       "6.71658291457286"
      ],
      "text/markdown": [
       "6.71658291457286"
      ],
      "text/plain": [
       "[1] 6.716583"
      ]
     },
     "metadata": {},
     "output_type": "display_data"
    }
   ],
   "source": [
    "cov(data$AnnualIncome,data$SpendingScore)"
   ]
  },
  {
   "cell_type": "markdown",
   "metadata": {},
   "source": [
    "Covariance –\n",
    "It is the relationship between a pair of random variables where change in one variable causes change in another variable. \n",
    "It can take any value between -infinity to +infinity, where the negative value represents the negative relationship whereas a positive value represents the positive relationship. \n",
    "It is used for the linear relationship between variables. \n",
    "It gives the direction of relationship between variables. \n",
    "Here we can clearly observe that the covariance is positive i.e there is a positive relationship between AnnualIncome and SpendingScore"
   ]
  },
  {
   "cell_type": "code",
   "execution_count": 123,
   "metadata": {},
   "outputs": [
    {
     "data": {
      "text/html": [
       "0.00990284809403761"
      ],
      "text/latex": [
       "0.00990284809403761"
      ],
      "text/markdown": [
       "0.00990284809403761"
      ],
      "text/plain": [
       "[1] 0.009902848"
      ]
     },
     "metadata": {},
     "output_type": "display_data"
    }
   ],
   "source": [
    "cor(data$AnnualIncome,data$SpendingScore)"
   ]
  },
  {
   "cell_type": "markdown",
   "metadata": {},
   "source": [
    "It show whether and how strongly pairs of variables are related to each other. \n",
    "Correlation takes values between -1 to +1, wherein values close to +1 represents strong positive correlation and values close to -1 represents strong negative correlation. \n",
    "In this variable are indirectly related to each other. \n",
    "It gives the direction and strength of relationship between variables. \n",
    "From this we can deduce that Annual Income and Spending Score have a weak positive correlation"
   ]
  },
  {
   "cell_type": "markdown",
   "metadata": {},
   "source": [
    "## Chi-Square Test"
   ]
  },
  {
   "cell_type": "code",
   "execution_count": 126,
   "metadata": {},
   "outputs": [
    {
     "name": "stderr",
     "output_type": "stream",
     "text": [
      "Warning message in chisq.test(data$Age, data$AnnualIncome):\n",
      "\"Chi-squared approximation may be incorrect\""
     ]
    },
    {
     "data": {
      "text/plain": [
       "\n",
       "\tPearson's Chi-squared test\n",
       "\n",
       "data:  data$Age and data$AnnualIncome\n",
       "X-squared = 3252.4, df = 3150, p-value = 0.09942\n"
      ]
     },
     "metadata": {},
     "output_type": "display_data"
    }
   ],
   "source": [
    " chisq.test(data$Age,data$AnnualIncome)"
   ]
  },
  {
   "cell_type": "markdown",
   "metadata": {},
   "source": [
    "                                                                                                            Archit Negi\n",
    "                                                                                                            170102165"
   ]
  },
  {
   "cell_type": "markdown",
   "metadata": {},
   "source": [
    "                                                                                                              "
   ]
  },
  {
   "cell_type": "code",
   "execution_count": null,
   "metadata": {},
   "outputs": [],
   "source": []
  }
 ],
 "metadata": {
  "kernelspec": {
   "display_name": "R",
   "language": "R",
   "name": "ir"
  },
  "language_info": {
   "codemirror_mode": "r",
   "file_extension": ".r",
   "mimetype": "text/x-r-source",
   "name": "R",
   "pygments_lexer": "r",
   "version": "3.6.1"
  }
 },
 "nbformat": 4,
 "nbformat_minor": 4
}
